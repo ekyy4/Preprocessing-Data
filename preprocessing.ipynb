{
  "nbformat": 4,
  "nbformat_minor": 0,
  "metadata": {
    "colab": {
      "provenance": []
    },
    "kernelspec": {
      "name": "python3",
      "display_name": "Python 3"
    },
    "language_info": {
      "name": "python"
    }
  },
  "cells": [
    {
      "cell_type": "code",
      "execution_count": 1,
      "metadata": {
        "id": "93_vJLTxtCrG"
      },
      "outputs": [],
      "source": [
        "import numpy as np\n",
        "import matplotlib.pyplot as plt\n",
        "import pandas as pd"
      ]
    },
    {
      "cell_type": "code",
      "source": [
        "dataset = pd.read_csv('DataPreprocessing.csv')\n",
        "x = dataset.iloc[:, :-1].values\n",
        "y = dataset.iloc[:, -1].values"
      ],
      "metadata": {
        "id": "V4vqzvdVtloB"
      },
      "execution_count": 12,
      "outputs": []
    },
    {
      "cell_type": "code",
      "source": [
        "print(x)"
      ],
      "metadata": {
        "colab": {
          "base_uri": "https://localhost:8080/"
        },
        "id": "3OvnHDE4t4yI",
        "outputId": "d31c94aa-c525-408c-c75f-e7c9f013c564"
      },
      "execution_count": 13,
      "outputs": [
        {
          "output_type": "stream",
          "name": "stdout",
          "text": [
            "[['France' 45.0 75000.0]\n",
            " ['Spain' 28.0 39000.0]\n",
            " ['Germany' 47.0 76000.0]\n",
            " ['Spain' nan 61000.0]\n",
            " ['Germany' 40.0 62000.0]\n",
            " ['France' 38.0 60000.0]\n",
            " ['Spain' 32.0 50000.0]\n",
            " ['France' 48.0 nan]\n",
            " ['Germany' 50.0 83000.0]\n",
            " ['France' 37.0 67000.0]\n",
            " ['Germany' 49.0 79000.0]\n",
            " ['Spain' 33.0 55000.0]\n",
            " ['France' 42.0 72000.0]\n",
            " ['Spain' 25.0 28000.0]\n",
            " ['Germany' nan nan]]\n"
          ]
        }
      ]
    },
    {
      "cell_type": "code",
      "source": [
        "print(y)"
      ],
      "metadata": {
        "colab": {
          "base_uri": "https://localhost:8080/"
        },
        "id": "sKLxcMT4t-gr",
        "outputId": "aa216bfd-d741-48ae-e468-d1c348e83443"
      },
      "execution_count": 14,
      "outputs": [
        {
          "output_type": "stream",
          "name": "stdout",
          "text": [
            "['No' 'Yes' 'Yes' 'No' 'Yes' 'Yes' 'Yes' 'Yes' 'No' 'Yes' 'No' 'Yes' 'No'\n",
            " 'Yes' 'Yes']\n"
          ]
        }
      ]
    },
    {
      "cell_type": "code",
      "source": [
        "from sklearn.impute import SimpleImputer\n",
        "imputer = SimpleImputer(missing_values=np.nan, strategy='mean')\n",
        "imputer.fit(x[:, 1:3])\n",
        "x[:, 1:3] = imputer.transform(x[:, 1:3])"
      ],
      "metadata": {
        "id": "I67tOdWdw-wZ"
      },
      "execution_count": 16,
      "outputs": []
    },
    {
      "cell_type": "code",
      "source": [
        "print(x)"
      ],
      "metadata": {
        "colab": {
          "base_uri": "https://localhost:8080/"
        },
        "id": "qwl64lfmx0pi",
        "outputId": "41d97ad3-9666-413f-dd63-099a81e78ec3"
      },
      "execution_count": 17,
      "outputs": [
        {
          "output_type": "stream",
          "name": "stdout",
          "text": [
            "[['France' 45.0 75000.0]\n",
            " ['Spain' 28.0 39000.0]\n",
            " ['Germany' 47.0 76000.0]\n",
            " ['Spain' 39.53846153846154 61000.0]\n",
            " ['Germany' 40.0 62000.0]\n",
            " ['France' 38.0 60000.0]\n",
            " ['Spain' 32.0 50000.0]\n",
            " ['France' 48.0 62076.92307692308]\n",
            " ['Germany' 50.0 83000.0]\n",
            " ['France' 37.0 67000.0]\n",
            " ['Germany' 49.0 79000.0]\n",
            " ['Spain' 33.0 55000.0]\n",
            " ['France' 42.0 72000.0]\n",
            " ['Spain' 25.0 28000.0]\n",
            " ['Germany' 39.53846153846154 62076.92307692308]]\n"
          ]
        }
      ]
    },
    {
      "cell_type": "code",
      "source": [
        "print(y)"
      ],
      "metadata": {
        "id": "NxQ4k2lLyp_L"
      },
      "execution_count": null,
      "outputs": []
    },
    {
      "cell_type": "code",
      "source": [
        "from sklearn.compose import ColumnTransformer\n",
        "from sklearn.preprocessing import OneHotEncoder\n",
        "ct = ColumnTransformer(transformers=[('encoder', OneHotEncoder(), [0])], remainder='passthrough')\n",
        "x = np.array(ct.fit_transform(x))"
      ],
      "metadata": {
        "id": "r7dSm_qgy2su"
      },
      "execution_count": 22,
      "outputs": []
    },
    {
      "cell_type": "code",
      "source": [
        "print(x)"
      ],
      "metadata": {
        "colab": {
          "base_uri": "https://localhost:8080/"
        },
        "id": "lZubrTuY0GS0",
        "outputId": "17f9838d-3dc8-4dce-bb64-1e8086cfb7a5"
      },
      "execution_count": 23,
      "outputs": [
        {
          "output_type": "stream",
          "name": "stdout",
          "text": [
            "[[1.0 0.0 0.0 45.0 75000.0]\n",
            " [0.0 0.0 1.0 28.0 39000.0]\n",
            " [0.0 1.0 0.0 47.0 76000.0]\n",
            " [0.0 0.0 1.0 39.53846153846154 61000.0]\n",
            " [0.0 1.0 0.0 40.0 62000.0]\n",
            " [1.0 0.0 0.0 38.0 60000.0]\n",
            " [0.0 0.0 1.0 32.0 50000.0]\n",
            " [1.0 0.0 0.0 48.0 62076.92307692308]\n",
            " [0.0 1.0 0.0 50.0 83000.0]\n",
            " [1.0 0.0 0.0 37.0 67000.0]\n",
            " [0.0 1.0 0.0 49.0 79000.0]\n",
            " [0.0 0.0 1.0 33.0 55000.0]\n",
            " [1.0 0.0 0.0 42.0 72000.0]\n",
            " [0.0 0.0 1.0 25.0 28000.0]\n",
            " [0.0 1.0 0.0 39.53846153846154 62076.92307692308]]\n"
          ]
        }
      ]
    },
    {
      "cell_type": "code",
      "source": [
        "from sklearn.preprocessing import LabelEncoder\n",
        "le = LabelEncoder()\n",
        "y = le.fit_transform(y)"
      ],
      "metadata": {
        "id": "C6mX_44c0VvV"
      },
      "execution_count": 24,
      "outputs": []
    },
    {
      "cell_type": "code",
      "source": [
        "print(y)"
      ],
      "metadata": {
        "colab": {
          "base_uri": "https://localhost:8080/"
        },
        "id": "wSYusRHN0uXb",
        "outputId": "ff3ea80d-b005-437d-89b6-65e9e2c5470f"
      },
      "execution_count": 25,
      "outputs": [
        {
          "output_type": "stream",
          "name": "stdout",
          "text": [
            "[0 1 1 0 1 1 1 1 0 1 0 1 0 1 1]\n"
          ]
        }
      ]
    },
    {
      "cell_type": "code",
      "source": [
        "from sklearn.model_selection import train_test_split\n",
        "x_train, x_test, y_train, y_test = train_test_split(x, y, test_size=0.2, random_state=1)"
      ],
      "metadata": {
        "id": "WxAoj4O_0_z5"
      },
      "execution_count": 26,
      "outputs": []
    },
    {
      "cell_type": "code",
      "source": [
        "print(x_train)"
      ],
      "metadata": {
        "colab": {
          "base_uri": "https://localhost:8080/"
        },
        "id": "QjdXJQg21qT6",
        "outputId": "058d28e0-9558-4f91-a539-a97f0d27f4d2"
      },
      "execution_count": 27,
      "outputs": [
        {
          "output_type": "stream",
          "name": "stdout",
          "text": [
            "[[0.0 1.0 0.0 47.0 76000.0]\n",
            " [0.0 1.0 0.0 49.0 79000.0]\n",
            " [0.0 1.0 0.0 40.0 62000.0]\n",
            " [0.0 0.0 1.0 28.0 39000.0]\n",
            " [0.0 0.0 1.0 25.0 28000.0]\n",
            " [1.0 0.0 0.0 45.0 75000.0]\n",
            " [0.0 1.0 0.0 39.53846153846154 62076.92307692308]\n",
            " [1.0 0.0 0.0 37.0 67000.0]\n",
            " [0.0 1.0 0.0 50.0 83000.0]\n",
            " [1.0 0.0 0.0 42.0 72000.0]\n",
            " [0.0 0.0 1.0 33.0 55000.0]\n",
            " [1.0 0.0 0.0 38.0 60000.0]]\n"
          ]
        }
      ]
    },
    {
      "cell_type": "code",
      "source": [
        "print(x_test)"
      ],
      "metadata": {
        "colab": {
          "base_uri": "https://localhost:8080/"
        },
        "id": "cRIczAE213KN",
        "outputId": "e3492d12-41ef-4f87-df7d-355c2372427a"
      },
      "execution_count": 28,
      "outputs": [
        {
          "output_type": "stream",
          "name": "stdout",
          "text": [
            "[[0.0 0.0 1.0 39.53846153846154 61000.0]\n",
            " [1.0 0.0 0.0 48.0 62076.92307692308]\n",
            " [0.0 0.0 1.0 32.0 50000.0]]\n"
          ]
        }
      ]
    },
    {
      "cell_type": "code",
      "source": [
        "print(y_train)"
      ],
      "metadata": {
        "colab": {
          "base_uri": "https://localhost:8080/"
        },
        "id": "VItCjhYU1_Vo",
        "outputId": "538e3d7b-6066-406c-d994-5617ed07bcb3"
      },
      "execution_count": 29,
      "outputs": [
        {
          "output_type": "stream",
          "name": "stdout",
          "text": [
            "[1 0 1 1 1 0 1 1 0 0 1 1]\n"
          ]
        }
      ]
    },
    {
      "cell_type": "code",
      "source": [
        "print(y_test)"
      ],
      "metadata": {
        "colab": {
          "base_uri": "https://localhost:8080/"
        },
        "id": "IVahcHVH2U62",
        "outputId": "3d4e800e-856d-4854-b243-dfc5d59e1276"
      },
      "execution_count": 31,
      "outputs": [
        {
          "output_type": "stream",
          "name": "stdout",
          "text": [
            "[0 1 1]\n"
          ]
        }
      ]
    },
    {
      "cell_type": "code",
      "source": [
        "from sklearn.preprocessing import StandardScaler\n",
        "sc = StandardScaler()\n",
        "x_train[:, 3:] = sc.fit_transform(x_train[:, 3:])\n",
        "x_test[:, 3:] = sc.transform(x_test[:, 3:])"
      ],
      "metadata": {
        "id": "-mQ-ftBn2bbF"
      },
      "execution_count": 33,
      "outputs": []
    },
    {
      "cell_type": "code",
      "source": [
        "print(x_train)"
      ],
      "metadata": {
        "colab": {
          "base_uri": "https://localhost:8080/"
        },
        "id": "BWUAOus83O92",
        "outputId": "a7c939f8-f840-4f17-e8c0-8188eddd87e9"
      },
      "execution_count": 34,
      "outputs": [
        {
          "output_type": "stream",
          "name": "stdout",
          "text": [
            "[[0.0 1.0 0.0 0.9965042553917187 0.8192741139454632]\n",
            " [0.0 1.0 0.0 1.260882935393603 1.0108884494409538]\n",
            " [0.0 1.0 0.0 0.07117887538512296 -0.07492611836682589]\n",
            " [0.0 0.0 1.0 -1.515093204626184 -1.5439693571655866]\n",
            " [0.0 0.0 1.0 -1.9116612246290108 -2.246555253982385]\n",
            " [1.0 0.0 0.0 0.7321255753898341 0.7554026687802997]\n",
            " [0.0 1.0 0.0 0.010168410769303683 -0.07001293027719785]\n",
            " [1.0 0.0 0.0 -0.32538914461770374 0.24443110745899163]\n",
            " [0.0 1.0 0.0 1.3930722753945455 1.2663742301016077]\n",
            " [1.0 0.0 0.0 0.33555755538700743 0.5637883332848092]\n",
            " [0.0 0.0 1.0 -0.8541465046214728 -0.5220262345229704]\n",
            " [1.0 0.0 0.0 -0.19319980461676153 -0.2026690086971529]]\n"
          ]
        }
      ]
    },
    {
      "cell_type": "code",
      "source": [
        "print(x_test)"
      ],
      "metadata": {
        "colab": {
          "base_uri": "https://localhost:8080/"
        },
        "id": "rO_ZuS2J3ab1",
        "outputId": "d3c5b6b8-792e-4ca9-b325-1b1f472ccab9"
      },
      "execution_count": 35,
      "outputs": [
        {
          "output_type": "stream",
          "name": "stdout",
          "text": [
            "[[0.0 0.0 1.0 0.010168410769303683 -0.13879756353198938]\n",
            " [1.0 0.0 0.0 1.128693595392661 -0.07001293027719785]\n",
            " [0.0 0.0 1.0 -0.986335844622415 -0.841383460348788]]\n"
          ]
        }
      ]
    }
  ]
}